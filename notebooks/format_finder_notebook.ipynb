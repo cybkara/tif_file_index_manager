{
 "cells": [
  {
   "cell_type": "markdown",
   "id": "e6551ef5-6eca-47c8-b0d1-3a0167b2922f",
   "metadata": {},
   "source": [
    "##### PODANIE ŚCIEŻKI DO DANYCH TIF"
   ]
  },
  {
   "cell_type": "code",
   "execution_count": 43,
   "id": "c8681b48-2e0c-4c04-89ef-79396f8790b7",
   "metadata": {},
   "outputs": [],
   "source": [
    "path = r\"C:\\Karolina\\projekty_python\\dane\\orto\""
   ]
  },
  {
   "cell_type": "markdown",
   "id": "9d3db78d-11d5-47dd-ac9c-7806d147a4a5",
   "metadata": {},
   "source": [
    "##### IMPORT MODUŁÓW"
   ]
  },
  {
   "cell_type": "code",
   "execution_count": 44,
   "id": "8e6c4421-6217-4dbc-a07f-dbd5204cd047",
   "metadata": {},
   "outputs": [],
   "source": [
    "import os "
   ]
  },
  {
   "cell_type": "code",
   "execution_count": 45,
   "id": "2f06bbcc-34dc-4bd7-89ad-b27bc2e1a5a3",
   "metadata": {},
   "outputs": [],
   "source": [
    "import sys"
   ]
  },
  {
   "cell_type": "code",
   "execution_count": 46,
   "id": "17aaee74-b0ab-4d9b-8b76-4e0891fde453",
   "metadata": {},
   "outputs": [],
   "source": [
    "import rasterio"
   ]
  },
  {
   "cell_type": "code",
   "execution_count": 47,
   "id": "d2b3342d-9562-41ca-bc01-2f2327a86449",
   "metadata": {},
   "outputs": [],
   "source": [
    "from shapely.geometry import box"
   ]
  },
  {
   "cell_type": "code",
   "execution_count": 48,
   "id": "859a8723-5d1d-406d-8c38-7ca8fd60e00e",
   "metadata": {},
   "outputs": [],
   "source": [
    "import matplotlib.pyplot as plt"
   ]
  },
  {
   "cell_type": "markdown",
   "id": "899d655c-5b4b-4fd5-9077-c7f62e4873f3",
   "metadata": {},
   "source": [
    "##### GENERATOR A LISTA"
   ]
  },
  {
   "cell_type": "code",
   "execution_count": 49,
   "id": "b93976ff-78e9-42d8-9e31-f4590bcfeeb7",
   "metadata": {},
   "outputs": [
    {
     "data": {
      "text/plain": [
       "<generator object _walk at 0x0000027E849E8190>"
      ]
     },
     "execution_count": 49,
     "metadata": {},
     "output_type": "execute_result"
    }
   ],
   "source": [
    "os.walk(path)"
   ]
  },
  {
   "cell_type": "code",
   "execution_count": 50,
   "id": "6057665e-0659-4958-ac8a-472fbbb4a153",
   "metadata": {},
   "outputs": [],
   "source": [
    "x = [1,2,3,4,5,6,7,8,9]"
   ]
  },
  {
   "cell_type": "code",
   "execution_count": 51,
   "id": "3940ed46-c15b-40e6-bdec-72a438cf234a",
   "metadata": {},
   "outputs": [],
   "source": [
    "#ile miejsca w pamięci zajmuje lista"
   ]
  },
  {
   "cell_type": "code",
   "execution_count": 52,
   "id": "843105d9-9d9b-44c1-8f65-69efa9bd02d0",
   "metadata": {},
   "outputs": [
    {
     "data": {
      "text/plain": [
       "136"
      ]
     },
     "execution_count": 52,
     "metadata": {},
     "output_type": "execute_result"
    }
   ],
   "source": [
    "sys.getsizeof(x)"
   ]
  },
  {
   "cell_type": "code",
   "execution_count": 53,
   "id": "99695472-4c01-4a2a-b000-ac9b78eaf52b",
   "metadata": {},
   "outputs": [
    {
     "data": {
      "text/plain": [
       "48"
      ]
     },
     "execution_count": 53,
     "metadata": {},
     "output_type": "execute_result"
    }
   ],
   "source": [
    "sys.getsizeof(iter(x))"
   ]
  },
  {
   "cell_type": "code",
   "execution_count": 54,
   "id": "2c916364-7030-4215-ac37-8caa2b8f9d1b",
   "metadata": {},
   "outputs": [
    {
     "data": {
      "text/plain": [
       "<list_iterator at 0x27e8470db10>"
      ]
     },
     "execution_count": 54,
     "metadata": {},
     "output_type": "execute_result"
    }
   ],
   "source": [
    "iter(x)"
   ]
  },
  {
   "cell_type": "code",
   "execution_count": 55,
   "id": "f08abd9d-0c90-402a-9905-f6cbd6002f3b",
   "metadata": {},
   "outputs": [],
   "source": [
    "it = iter(x)"
   ]
  },
  {
   "cell_type": "code",
   "execution_count": 56,
   "id": "1ac8f2f4-6a4b-4781-a842-3ac7a26e3e73",
   "metadata": {},
   "outputs": [
    {
     "data": {
      "text/plain": [
       "1"
      ]
     },
     "execution_count": 56,
     "metadata": {},
     "output_type": "execute_result"
    }
   ],
   "source": [
    "next(it)"
   ]
  },
  {
   "cell_type": "code",
   "execution_count": 57,
   "id": "76fb1b0f-f598-4179-b767-67e8eeac06fb",
   "metadata": {},
   "outputs": [],
   "source": [
    "# Tutaj jest błąd TypeError: 'list' object is not an iterator\n",
    "#next(x)"
   ]
  },
  {
   "cell_type": "code",
   "execution_count": 58,
   "id": "5057671c-eaf3-4859-aca0-0fef9876b8ca",
   "metadata": {},
   "outputs": [
    {
     "data": {
      "text/plain": [
       "[('C:\\\\Karolina\\\\projekty_python\\\\dane\\\\orto',\n",
       "  ['Nowy folder'],\n",
       "  ['78049_1196583_N-34-138-B-b-3-4.tif',\n",
       "   '78049_1196591_N-34-138-B-d-1-1.tif',\n",
       "   '78049_1196592_N-34-138-B-d-1-2.tif',\n",
       "   'Nowy Archiwum WinRARa.rar']),\n",
       " ('C:\\\\Karolina\\\\projekty_python\\\\dane\\\\orto\\\\Nowy folder', [], [])]"
      ]
     },
     "execution_count": 58,
     "metadata": {},
     "output_type": "execute_result"
    }
   ],
   "source": [
    "list(os.walk(path))"
   ]
  },
  {
   "cell_type": "code",
   "execution_count": 59,
   "id": "a0b06fd7-1295-41ad-a0ca-f440962dac44",
   "metadata": {},
   "outputs": [
    {
     "data": {
      "text/plain": [
       "('C:\\\\Karolina\\\\projekty_python\\\\dane\\\\orto',\n",
       " ['Nowy folder'],\n",
       " ['78049_1196583_N-34-138-B-b-3-4.tif',\n",
       "  '78049_1196591_N-34-138-B-d-1-1.tif',\n",
       "  '78049_1196592_N-34-138-B-d-1-2.tif',\n",
       "  'Nowy Archiwum WinRARa.rar'])"
      ]
     },
     "execution_count": 59,
     "metadata": {},
     "output_type": "execute_result"
    }
   ],
   "source": [
    "next(os.walk(path))"
   ]
  },
  {
   "cell_type": "markdown",
   "id": "9dae3c0b-fe6d-485a-8862-fd0e659611a5",
   "metadata": {},
   "source": [
    "##### DEFINICJA FUNKCJI DO ZNALEZIENIA PLIKÓW O PODANYM FORMACIE W PODANEJ ŚCIEŻCE"
   ]
  },
  {
   "cell_type": "code",
   "execution_count": 60,
   "id": "6fd2984a-043c-4900-9e80-24e99eba5968",
   "metadata": {},
   "outputs": [],
   "source": [
    "def format_finder(file_format, path):\n",
    "\n",
    "    files_list = []\n",
    "    if not file_format.startswith('.'):\n",
    "        raise ValueError('Add dot at the beggining of the file_format')\n",
    "    for root, dirs, files in os.walk(path):\n",
    "        for file in files:\n",
    "           if file_format in file:\n",
    "               files_list.append(os.path.join(root,file))\n",
    "    \n",
    "    return files_list               "
   ]
  },
  {
   "cell_type": "code",
   "execution_count": 61,
   "id": "bff770bd-5b19-4c1e-80e6-d1d2c69f9443",
   "metadata": {},
   "outputs": [],
   "source": [
    "#Wyskakuje błąd formatu \n",
    "#format_finder('tif',path)"
   ]
  },
  {
   "cell_type": "code",
   "execution_count": 62,
   "id": "42ed7dab-c5c2-47a2-91ed-bdca3901c2c3",
   "metadata": {},
   "outputs": [
    {
     "data": {
      "text/plain": [
       "['C:\\\\Karolina\\\\projekty_python\\\\dane\\\\orto\\\\78049_1196583_N-34-138-B-b-3-4.tif',\n",
       " 'C:\\\\Karolina\\\\projekty_python\\\\dane\\\\orto\\\\78049_1196591_N-34-138-B-d-1-1.tif',\n",
       " 'C:\\\\Karolina\\\\projekty_python\\\\dane\\\\orto\\\\78049_1196592_N-34-138-B-d-1-2.tif']"
      ]
     },
     "execution_count": 62,
     "metadata": {},
     "output_type": "execute_result"
    }
   ],
   "source": [
    "format_finder('.tif',path)"
   ]
  },
  {
   "cell_type": "code",
   "execution_count": 63,
   "id": "9906616f-1c30-4aaf-88d1-315494a3c14e",
   "metadata": {},
   "outputs": [],
   "source": [
    "tiff_files = format_finder('.tif',path)"
   ]
  },
  {
   "cell_type": "code",
   "execution_count": 64,
   "id": "8301beae-1cc3-4708-b4a6-d639b05a2ea6",
   "metadata": {},
   "outputs": [
    {
     "data": {
      "text/plain": [
       "['C:\\\\Karolina\\\\projekty_python\\\\dane\\\\orto\\\\78049_1196583_N-34-138-B-b-3-4.tif',\n",
       " 'C:\\\\Karolina\\\\projekty_python\\\\dane\\\\orto\\\\78049_1196591_N-34-138-B-d-1-1.tif',\n",
       " 'C:\\\\Karolina\\\\projekty_python\\\\dane\\\\orto\\\\78049_1196592_N-34-138-B-d-1-2.tif']"
      ]
     },
     "execution_count": 64,
     "metadata": {},
     "output_type": "execute_result"
    }
   ],
   "source": [
    "tiff_files"
   ]
  },
  {
   "cell_type": "code",
   "execution_count": 65,
   "id": "2e239c1d-9287-4c2b-939f-fd87a5fc60db",
   "metadata": {},
   "outputs": [],
   "source": [
    "#!poetry add rasterio"
   ]
  },
  {
   "cell_type": "markdown",
   "id": "9ebdc1ed-5f0c-48d4-a680-a6548d71f9c5",
   "metadata": {},
   "source": [
    "##### WYPRINTOWANIE PARAMETRÓW RASTRÓW"
   ]
  },
  {
   "cell_type": "code",
   "execution_count": 66,
   "id": "128af399-3cf9-4978-b961-2b275d1bb4d7",
   "metadata": {},
   "outputs": [
    {
     "name": "stdout",
     "output_type": "stream",
     "text": [
      "Parametry pliku tif o nazwie:  78049_1196583_N-34-138-B-b-3-4.tif :\n",
      "- BoundingBox(left=630028.8000001089, bottom=488818.54999952577, right=632222.2500001187, top=491191.4499995494) \n",
      "- PROJCS[\"ETRF2000-PL / CS92\",GEOGCS[\"ETRF2000-PL\",DATUM[\"ETRF2000_Poland\",SPHEROID[\"GRS 1980\",6378137,298.257222101004,AUTHORITY[\"EPSG\",\"7019\"]],AUTHORITY[\"EPSG\",\"1305\"]],PRIMEM[\"Greenwich\",0],UNIT[\"degree\",0.0174532925199433,AUTHORITY[\"EPSG\",\"9122\"]],AUTHORITY[\"EPSG\",\"9702\"]],PROJECTION[\"Transverse_Mercator\"],PARAMETER[\"latitude_of_origin\",0],PARAMETER[\"central_meridian\",19],PARAMETER[\"scale_factor\",0.9993],PARAMETER[\"false_easting\",500000],PARAMETER[\"false_northing\",-5300000],UNIT[\"metre\",1,AUTHORITY[\"EPSG\",\"9001\"]],AXIS[\"Easting\",EAST],AXIS[\"Northing\",NORTH],AUTHORITY[\"EPSG\",\"2180\"]] \n",
      "\n",
      "Parametry pliku tif o nazwie:  78049_1196591_N-34-138-B-d-1-1.tif :\n",
      "- BoundingBox(left=627957.35, bottom=486446.55000000005, right=630150.7999999999, top=488818.60000000003) \n",
      "- PROJCS[\"ETRF2000-PL / CS92\",GEOGCS[\"ETRS89\",DATUM[\"European_Terrestrial_Reference_System_1989\",SPHEROID[\"GRS 1980\",6378137,298.257221999999,AUTHORITY[\"EPSG\",\"7019\"]],AUTHORITY[\"EPSG\",\"6258\"]],PRIMEM[\"Greenwich\",0],UNIT[\"degree\",0.0174532925199433,AUTHORITY[\"EPSG\",\"9122\"]],AUTHORITY[\"EPSG\",\"4258\"]],PROJECTION[\"Transverse_Mercator\"],PARAMETER[\"latitude_of_origin\",0],PARAMETER[\"central_meridian\",19],PARAMETER[\"scale_factor\",0.9993],PARAMETER[\"false_easting\",500000],PARAMETER[\"false_northing\",-5300000],UNIT[\"metre\",1,AUTHORITY[\"EPSG\",\"9001\"]],AXIS[\"Easting\",EAST],AXIS[\"Northing\",NORTH],AUTHORITY[\"EPSG\",\"2180\"]] \n",
      "\n",
      "Parametry pliku tif o nazwie:  78049_1196592_N-34-138-B-d-1-2.tif :\n",
      "- BoundingBox(left=630089.7999999999, bottom=486502.25, right=632284.2, top=488875.15) \n",
      "- PROJCS[\"ETRF2000-PL / CS92\",GEOGCS[\"ETRS89\",DATUM[\"European_Terrestrial_Reference_System_1989\",SPHEROID[\"GRS 1980\",6378137,298.257221999999,AUTHORITY[\"EPSG\",\"7019\"]],AUTHORITY[\"EPSG\",\"6258\"]],PRIMEM[\"Greenwich\",0],UNIT[\"degree\",0.0174532925199433,AUTHORITY[\"EPSG\",\"9122\"]],AUTHORITY[\"EPSG\",\"4258\"]],PROJECTION[\"Transverse_Mercator\"],PARAMETER[\"latitude_of_origin\",0],PARAMETER[\"central_meridian\",19],PARAMETER[\"scale_factor\",0.9993],PARAMETER[\"false_easting\",500000],PARAMETER[\"false_northing\",-5300000],UNIT[\"metre\",1,AUTHORITY[\"EPSG\",\"9001\"]],AXIS[\"Easting\",EAST],AXIS[\"Northing\",NORTH],AUTHORITY[\"EPSG\",\"2180\"]] \n",
      "\n"
     ]
    }
   ],
   "source": [
    "for tiff in format_finder('.tif',path):\n",
    "    with rasterio.open(tiff) as dataset:\n",
    "    #mask = dataset.dataset_mask()\n",
    "        # W Pythonie ukośnik jest używany jako znak ucieczki, co oznacza, że musisz go odpowiednio uciec (czyli podwoić) lub użyć surowego łańcucha znaków (r'').\n",
    "        print('Parametry pliku tif o nazwie: ', tiff[tiff.rindex('\\\\')+1:], ':\\n-', dataset.bounds,'\\n-',dataset.crs, '\\n')"
   ]
  },
  {
   "cell_type": "code",
   "execution_count": 67,
   "id": "45083965-a125-4264-bd04-3be4516959ff",
   "metadata": {},
   "outputs": [],
   "source": [
    "#!poetry add matplotlib"
   ]
  },
  {
   "cell_type": "markdown",
   "id": "08c78cee-f799-4229-89d2-58e3fe1eb737",
   "metadata": {},
   "source": [
    "##### NARYSOWANIE EXTENTU RASTRA"
   ]
  },
  {
   "cell_type": "code",
   "execution_count": 68,
   "id": "f2fb15cb-f2c8-4da0-84fb-cdfc5143f8bd",
   "metadata": {},
   "outputs": [
    {
     "data": {
      "image/png": "[encoded data removed]",
      "text/plain": [
       "<Figure size 640x480 with 1 Axes>"
      ]
     },
     "metadata": {},
     "output_type": "display_data"
    }
   ],
   "source": [
    "# Definiowanie BoundingBox\n",
    "bounding_box = dataset.bounds\n",
    "\n",
    "# Wyciągnięcie wartości left, bottom, right i top\n",
    "left = bounding_box.left\n",
    "bottom = bounding_box.bottom\n",
    "right = bounding_box.right\n",
    "top = bounding_box.top\n",
    "\n",
    "# Tworzenie prostokąta za pomocą bounding box\n",
    "rectangle = box(left, bottom, right, top)\n",
    "\n",
    "# Rysowanie prostokąta\n",
    "x, y = rectangle.exterior.xy\n",
    "\n",
    "plt.figure()\n",
    "plt.plot(x, y, marker='o')\n",
    "plt.title(\"Extent z BoundingBox\")\n",
    "plt.xlabel(\"X\")\n",
    "plt.ylabel(\"Y\")\n",
    "plt.grid(True)\n",
    "plt.show()\n"
   ]
  },
  {
   "cell_type": "code",
   "execution_count": null,
   "id": "d7e41a98-4a06-4649-b68f-00c4ee24937a",
   "metadata": {},
   "outputs": [],
   "source": []
  }
 ],
 "metadata": {
  "kernelspec": {
   "display_name": "Python 3 (ipykernel)",
   "language": "python",
   "name": "python3"
  },
  "language_info": {
   "codemirror_mode": {
    "name": "ipython",
    "version": 3
   },
   "file_extension": ".py",
   "mimetype": "text/x-python",
   "name": "python",
   "nbconvert_exporter": "python",
   "pygments_lexer": "ipython3",
   "version": "3.10.11"
  }
 },
 "nbformat": 4,
 "nbformat_minor": 5
}
