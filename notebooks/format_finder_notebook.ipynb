{
 "cells": [
  {
   "cell_type": "code",
   "execution_count": 1,
   "id": "c8681b48-2e0c-4c04-89ef-79396f8790b7",
   "metadata": {},
   "outputs": [],
   "source": [
    "path = r\"C:\\Karolina\\projekty_python\\dane\\orto\""
   ]
  },
  {
   "cell_type": "code",
   "execution_count": 2,
   "id": "8e6c4421-6217-4dbc-a07f-dbd5204cd047",
   "metadata": {},
   "outputs": [],
   "source": [
    "import os "
   ]
  },
  {
   "cell_type": "code",
   "execution_count": 5,
   "id": "2f06bbcc-34dc-4bd7-89ad-b27bc2e1a5a3",
   "metadata": {},
   "outputs": [
    {
     "data": {
      "text/plain": [
       "<generator object _walk at 0x000001988756C900>"
      ]
     },
     "execution_count": 5,
     "metadata": {},
     "output_type": "execute_result"
    }
   ],
   "source": [
    "os.walk(path)"
   ]
  },
  {
   "cell_type": "code",
   "execution_count": 7,
   "id": "6057665e-0659-4958-ac8a-472fbbb4a153",
   "metadata": {},
   "outputs": [],
   "source": [
    "x = [1,2,3,4,5,6,7,8,9]"
   ]
  },
  {
   "cell_type": "code",
   "execution_count": 3,
   "id": "6964b9ab-32db-4498-b2a8-461118ff69e7",
   "metadata": {},
   "outputs": [],
   "source": [
    "import sys"
   ]
  },
  {
   "cell_type": "code",
   "execution_count": null,
   "id": "3940ed46-c15b-40e6-bdec-72a438cf234a",
   "metadata": {},
   "outputs": [],
   "source": [
    "#ile miejsca w pamięci zajmuje lista"
   ]
  },
  {
   "cell_type": "code",
   "execution_count": 9,
   "id": "843105d9-9d9b-44c1-8f65-69efa9bd02d0",
   "metadata": {},
   "outputs": [
    {
     "data": {
      "text/plain": [
       "136"
      ]
     },
     "execution_count": 9,
     "metadata": {},
     "output_type": "execute_result"
    }
   ],
   "source": [
    "sys.getsizeof(x)"
   ]
  },
  {
   "cell_type": "code",
   "execution_count": 10,
   "id": "99695472-4c01-4a2a-b000-ac9b78eaf52b",
   "metadata": {},
   "outputs": [
    {
     "data": {
      "text/plain": [
       "48"
      ]
     },
     "execution_count": 10,
     "metadata": {},
     "output_type": "execute_result"
    }
   ],
   "source": [
    "sys.getsizeof(iter(x))"
   ]
  },
  {
   "cell_type": "code",
   "execution_count": 11,
   "id": "2c916364-7030-4215-ac37-8caa2b8f9d1b",
   "metadata": {},
   "outputs": [
    {
     "data": {
      "text/plain": [
       "<list_iterator at 0x198878eb7c0>"
      ]
     },
     "execution_count": 11,
     "metadata": {},
     "output_type": "execute_result"
    }
   ],
   "source": [
    "iter(x)"
   ]
  },
  {
   "cell_type": "code",
   "execution_count": 12,
   "id": "f08abd9d-0c90-402a-9905-f6cbd6002f3b",
   "metadata": {},
   "outputs": [],
   "source": [
    "it = iter(x)"
   ]
  },
  {
   "cell_type": "code",
   "execution_count": 15,
   "id": "1ac8f2f4-6a4b-4781-a842-3ac7a26e3e73",
   "metadata": {},
   "outputs": [
    {
     "data": {
      "text/plain": [
       "3"
      ]
     },
     "execution_count": 15,
     "metadata": {},
     "output_type": "execute_result"
    }
   ],
   "source": [
    "next(it)"
   ]
  },
  {
   "cell_type": "code",
   "execution_count": 16,
   "id": "76fb1b0f-f598-4179-b767-67e8eeac06fb",
   "metadata": {},
   "outputs": [
    {
     "ename": "TypeError",
     "evalue": "'list' object is not an iterator",
     "output_type": "error",
     "traceback": [
      "\u001b[1;31m---------------------------------------------------------------------------\u001b[0m",
      "\u001b[1;31mTypeError\u001b[0m                                 Traceback (most recent call last)",
      "Cell \u001b[1;32mIn[16], line 1\u001b[0m\n\u001b[1;32m----> 1\u001b[0m \u001b[38;5;28;43mnext\u001b[39;49m\u001b[43m(\u001b[49m\u001b[43mx\u001b[49m\u001b[43m)\u001b[49m\n",
      "\u001b[1;31mTypeError\u001b[0m: 'list' object is not an iterator"
     ]
    }
   ],
   "source": [
    "next(x)"
   ]
  },
  {
   "cell_type": "code",
   "execution_count": 22,
   "id": "5057671c-eaf3-4859-aca0-0fef9876b8ca",
   "metadata": {},
   "outputs": [
    {
     "data": {
      "text/plain": [
       "[('C:\\\\Karolina\\\\projekty_python',\n",
       "  ['dane', 'tif_file_index_manager'],\n",
       "  ['set_up_pyenv.txt']),\n",
       " ('C:\\\\Karolina\\\\projekty_python\\\\dane', ['orto'], []),\n",
       " ('C:\\\\Karolina\\\\projekty_python\\\\dane\\\\orto',\n",
       "  ['Nowy folder'],\n",
       "  ['78049_1196591_N-34-138-B-d-1-1.tif',\n",
       "   '78049_1196592_N-34-138-B-d-1-2.tif']),\n",
       " ('C:\\\\Karolina\\\\projekty_python\\\\dane\\\\orto\\\\Nowy folder', [], []),\n",
       " ('C:\\\\Karolina\\\\projekty_python\\\\tif_file_index_manager',\n",
       "  ['.git', 'notebooks', 'tests', 'tif_file_index_manager'],\n",
       "  ['.python-version', 'poetry.lock', 'pyproject.toml', 'README.md']),\n",
       " ('C:\\\\Karolina\\\\projekty_python\\\\tif_file_index_manager\\\\.git',\n",
       "  ['hooks', 'info', 'logs', 'objects', 'refs'],\n",
       "  ['COMMIT_EDITMSG',\n",
       "   'config',\n",
       "   'description',\n",
       "   'FETCH_HEAD',\n",
       "   'HEAD',\n",
       "   'index',\n",
       "   'ORIG_HEAD']),\n",
       " ('C:\\\\Karolina\\\\projekty_python\\\\tif_file_index_manager\\\\.git\\\\hooks',\n",
       "  [],\n",
       "  ['applypatch-msg.sample',\n",
       "   'commit-msg.sample',\n",
       "   'fsmonitor-watchman.sample',\n",
       "   'post-update.sample',\n",
       "   'pre-applypatch.sample',\n",
       "   'pre-commit.sample',\n",
       "   'pre-merge-commit.sample',\n",
       "   'pre-push.sample',\n",
       "   'pre-rebase.sample',\n",
       "   'pre-receive.sample',\n",
       "   'prepare-commit-msg.sample',\n",
       "   'push-to-checkout.sample',\n",
       "   'sendemail-validate.sample',\n",
       "   'update.sample']),\n",
       " ('C:\\\\Karolina\\\\projekty_python\\\\tif_file_index_manager\\\\.git\\\\info',\n",
       "  [],\n",
       "  ['exclude']),\n",
       " ('C:\\\\Karolina\\\\projekty_python\\\\tif_file_index_manager\\\\.git\\\\logs',\n",
       "  ['refs'],\n",
       "  ['HEAD']),\n",
       " ('C:\\\\Karolina\\\\projekty_python\\\\tif_file_index_manager\\\\.git\\\\logs\\\\refs',\n",
       "  ['heads', 'remotes'],\n",
       "  []),\n",
       " ('C:\\\\Karolina\\\\projekty_python\\\\tif_file_index_manager\\\\.git\\\\logs\\\\refs\\\\heads',\n",
       "  [],\n",
       "  ['master']),\n",
       " ('C:\\\\Karolina\\\\projekty_python\\\\tif_file_index_manager\\\\.git\\\\logs\\\\refs\\\\remotes',\n",
       "  ['origin'],\n",
       "  []),\n",
       " ('C:\\\\Karolina\\\\projekty_python\\\\tif_file_index_manager\\\\.git\\\\logs\\\\refs\\\\remotes\\\\origin',\n",
       "  [],\n",
       "  ['master']),\n",
       " ('C:\\\\Karolina\\\\projekty_python\\\\tif_file_index_manager\\\\.git\\\\objects',\n",
       "  ['09',\n",
       "   '11',\n",
       "   '3a',\n",
       "   '49',\n",
       "   '5b',\n",
       "   '63',\n",
       "   '64',\n",
       "   '66',\n",
       "   '75',\n",
       "   '7c',\n",
       "   '91',\n",
       "   '9d',\n",
       "   'b3',\n",
       "   'd1',\n",
       "   'da',\n",
       "   'e6',\n",
       "   'info',\n",
       "   'pack'],\n",
       "  []),\n",
       " ('C:\\\\Karolina\\\\projekty_python\\\\tif_file_index_manager\\\\.git\\\\objects\\\\09',\n",
       "  [],\n",
       "  ['483ae19aef3898bc0e18e8e2510467ae055b90',\n",
       "   'dcc780875f2a45e621cb1ff2d4780c66b363fe']),\n",
       " ('C:\\\\Karolina\\\\projekty_python\\\\tif_file_index_manager\\\\.git\\\\objects\\\\11',\n",
       "  [],\n",
       "  ['236d90f48feda01027896b05938795eb63f841']),\n",
       " ('C:\\\\Karolina\\\\projekty_python\\\\tif_file_index_manager\\\\.git\\\\objects\\\\3a',\n",
       "  [],\n",
       "  ['f1c14aadf18487dc9a69a775fb181051ea8a07']),\n",
       " ('C:\\\\Karolina\\\\projekty_python\\\\tif_file_index_manager\\\\.git\\\\objects\\\\49',\n",
       "  [],\n",
       "  ['1258f367f58393f7ebda888eea5508f8dc6460']),\n",
       " ('C:\\\\Karolina\\\\projekty_python\\\\tif_file_index_manager\\\\.git\\\\objects\\\\5b',\n",
       "  [],\n",
       "  ['f21b81bae85238e47b5f6215a190c83470afcc']),\n",
       " ('C:\\\\Karolina\\\\projekty_python\\\\tif_file_index_manager\\\\.git\\\\objects\\\\63',\n",
       "  [],\n",
       "  ['6bb107bc1c93504010314fac9c53e9cfb78022']),\n",
       " ('C:\\\\Karolina\\\\projekty_python\\\\tif_file_index_manager\\\\.git\\\\objects\\\\64',\n",
       "  [],\n",
       "  ['d2e823588eb27968e2be71d9b105e796412a49']),\n",
       " ('C:\\\\Karolina\\\\projekty_python\\\\tif_file_index_manager\\\\.git\\\\objects\\\\66',\n",
       "  [],\n",
       "  ['8ca76be29c84aba751a289e6b75bc5c19f1c44']),\n",
       " ('C:\\\\Karolina\\\\projekty_python\\\\tif_file_index_manager\\\\.git\\\\objects\\\\75',\n",
       "  [],\n",
       "  ['490c75f420ce15ea1bff6c9e68dc95f41c7415']),\n",
       " ('C:\\\\Karolina\\\\projekty_python\\\\tif_file_index_manager\\\\.git\\\\objects\\\\7c',\n",
       "  [],\n",
       "  ['de925f7cd099aa4fd9bc0a2693326cd4402f44']),\n",
       " ('C:\\\\Karolina\\\\projekty_python\\\\tif_file_index_manager\\\\.git\\\\objects\\\\91',\n",
       "  [],\n",
       "  ['148d564f0ca0530e3e1e49e097a790fa896c19']),\n",
       " ('C:\\\\Karolina\\\\projekty_python\\\\tif_file_index_manager\\\\.git\\\\objects\\\\9d',\n",
       "  [],\n",
       "  ['1dcfdaf1a6857c5f83dc27019c7600e1ffaff8']),\n",
       " ('C:\\\\Karolina\\\\projekty_python\\\\tif_file_index_manager\\\\.git\\\\objects\\\\b3',\n",
       "  [],\n",
       "  ['ab0aec6974db57b20567a40c5f5b6af33207d3']),\n",
       " ('C:\\\\Karolina\\\\projekty_python\\\\tif_file_index_manager\\\\.git\\\\objects\\\\d1',\n",
       "  [],\n",
       "  ['c7e9af0f8746255df6164a5e584c2591edaf8a']),\n",
       " ('C:\\\\Karolina\\\\projekty_python\\\\tif_file_index_manager\\\\.git\\\\objects\\\\da',\n",
       "  [],\n",
       "  ['fa007aa40104c769f2126bdd1af97aa468828b']),\n",
       " ('C:\\\\Karolina\\\\projekty_python\\\\tif_file_index_manager\\\\.git\\\\objects\\\\e6',\n",
       "  [],\n",
       "  ['9de29bb2d1d6434b8b29ae775ad8c2e48c5391']),\n",
       " ('C:\\\\Karolina\\\\projekty_python\\\\tif_file_index_manager\\\\.git\\\\objects\\\\info',\n",
       "  [],\n",
       "  []),\n",
       " ('C:\\\\Karolina\\\\projekty_python\\\\tif_file_index_manager\\\\.git\\\\objects\\\\pack',\n",
       "  [],\n",
       "  []),\n",
       " ('C:\\\\Karolina\\\\projekty_python\\\\tif_file_index_manager\\\\.git\\\\refs',\n",
       "  ['heads', 'remotes', 'tags'],\n",
       "  []),\n",
       " ('C:\\\\Karolina\\\\projekty_python\\\\tif_file_index_manager\\\\.git\\\\refs\\\\heads',\n",
       "  [],\n",
       "  ['master']),\n",
       " ('C:\\\\Karolina\\\\projekty_python\\\\tif_file_index_manager\\\\.git\\\\refs\\\\remotes',\n",
       "  ['origin'],\n",
       "  []),\n",
       " ('C:\\\\Karolina\\\\projekty_python\\\\tif_file_index_manager\\\\.git\\\\refs\\\\remotes\\\\origin',\n",
       "  [],\n",
       "  ['master']),\n",
       " ('C:\\\\Karolina\\\\projekty_python\\\\tif_file_index_manager\\\\.git\\\\refs\\\\tags',\n",
       "  [],\n",
       "  []),\n",
       " ('C:\\\\Karolina\\\\projekty_python\\\\tif_file_index_manager\\\\notebooks',\n",
       "  ['.ipynb_checkpoints'],\n",
       "  ['HelloJupyter.ipynb']),\n",
       " ('C:\\\\Karolina\\\\projekty_python\\\\tif_file_index_manager\\\\notebooks\\\\.ipynb_checkpoints',\n",
       "  [],\n",
       "  ['HelloJupyter-checkpoint.ipynb']),\n",
       " ('C:\\\\Karolina\\\\projekty_python\\\\tif_file_index_manager\\\\tests',\n",
       "  [],\n",
       "  ['__init__.py']),\n",
       " ('C:\\\\Karolina\\\\projekty_python\\\\tif_file_index_manager\\\\tif_file_index_manager',\n",
       "  [],\n",
       "  ['__init__.py'])]"
      ]
     },
     "execution_count": 22,
     "metadata": {},
     "output_type": "execute_result"
    }
   ],
   "source": [
    "list(os.walk(path))"
   ]
  },
  {
   "cell_type": "code",
   "execution_count": 20,
   "id": "a0b06fd7-1295-41ad-a0ca-f440962dac44",
   "metadata": {},
   "outputs": [
    {
     "data": {
      "text/plain": [
       "('C:\\\\Karolina\\\\projekty_python\\\\dane\\\\orto',\n",
       " ['Nowy folder'],\n",
       " ['78049_1196591_N-34-138-B-d-1-1.tif', '78049_1196592_N-34-138-B-d-1-2.tif'])"
      ]
     },
     "execution_count": 20,
     "metadata": {},
     "output_type": "execute_result"
    }
   ],
   "source": [
    "next(os.walk(path))"
   ]
  },
  {
   "cell_type": "code",
   "execution_count": 13,
   "id": "6fd2984a-043c-4900-9e80-24e99eba5968",
   "metadata": {},
   "outputs": [],
   "source": [
    "def format_finder(file_format, path):\n",
    "\n",
    "    if not file_format.startswith('.'):\n",
    "        raise ValueError('Add dot at the beggining of the file_format')\n",
    "    for root, dirs, files in os.walk(path):\n",
    "        for file in files:\n",
    "           if file_format in file:\n",
    "               print(os.path.join(root,file))"
   ]
  },
  {
   "cell_type": "code",
   "execution_count": 14,
   "id": "bff770bd-5b19-4c1e-80e6-d1d2c69f9443",
   "metadata": {},
   "outputs": [
    {
     "ename": "ValueError",
     "evalue": "Add dot at the beggining of the file_format",
     "output_type": "error",
     "traceback": [
      "\u001b[1;31m---------------------------------------------------------------------------\u001b[0m",
      "\u001b[1;31mValueError\u001b[0m                                Traceback (most recent call last)",
      "Cell \u001b[1;32mIn[14], line 1\u001b[0m\n\u001b[1;32m----> 1\u001b[0m \u001b[43mformat_finder\u001b[49m\u001b[43m(\u001b[49m\u001b[38;5;124;43m'\u001b[39;49m\u001b[38;5;124;43mtif\u001b[39;49m\u001b[38;5;124;43m'\u001b[39;49m\u001b[43m,\u001b[49m\u001b[43mpath\u001b[49m\u001b[43m)\u001b[49m\n",
      "Cell \u001b[1;32mIn[13], line 4\u001b[0m, in \u001b[0;36mformat_finder\u001b[1;34m(file_format, path)\u001b[0m\n\u001b[0;32m      1\u001b[0m \u001b[38;5;28;01mdef\u001b[39;00m \u001b[38;5;21mformat_finder\u001b[39m(file_format, path):\n\u001b[0;32m      3\u001b[0m     \u001b[38;5;28;01mif\u001b[39;00m \u001b[38;5;129;01mnot\u001b[39;00m file_format\u001b[38;5;241m.\u001b[39mstartswith(\u001b[38;5;124m'\u001b[39m\u001b[38;5;124m.\u001b[39m\u001b[38;5;124m'\u001b[39m):\n\u001b[1;32m----> 4\u001b[0m         \u001b[38;5;28;01mraise\u001b[39;00m \u001b[38;5;167;01mValueError\u001b[39;00m(\u001b[38;5;124m'\u001b[39m\u001b[38;5;124mAdd dot at the beggining of the file_format\u001b[39m\u001b[38;5;124m'\u001b[39m)\n\u001b[0;32m      5\u001b[0m     \u001b[38;5;28;01mfor\u001b[39;00m root, dirs, files \u001b[38;5;129;01min\u001b[39;00m os\u001b[38;5;241m.\u001b[39mwalk(path):\n\u001b[0;32m      6\u001b[0m         \u001b[38;5;28;01mfor\u001b[39;00m file \u001b[38;5;129;01min\u001b[39;00m files:\n",
      "\u001b[1;31mValueError\u001b[0m: Add dot at the beggining of the file_format"
     ]
    }
   ],
   "source": [
    "format_finder('tif',path)"
   ]
  },
  {
   "cell_type": "code",
   "execution_count": 15,
   "id": "42ed7dab-c5c2-47a2-91ed-bdca3901c2c3",
   "metadata": {},
   "outputs": [
    {
     "name": "stdout",
     "output_type": "stream",
     "text": [
      "C:\\Karolina\\projekty_python\\dane\\orto\\78049_1196591_N-34-138-B-d-1-1.tif\n",
      "C:\\Karolina\\projekty_python\\dane\\orto\\78049_1196592_N-34-138-B-d-1-2.tif\n"
     ]
    }
   ],
   "source": [
    "format_finder('.tif',path)"
   ]
  },
  {
   "cell_type": "code",
   "execution_count": null,
   "id": "9906616f-1c30-4aaf-88d1-315494a3c14e",
   "metadata": {},
   "outputs": [],
   "source": []
  }
 ],
 "metadata": {
  "kernelspec": {
   "display_name": "Python 3 (ipykernel)",
   "language": "python",
   "name": "python3"
  },
  "language_info": {
   "codemirror_mode": {
    "name": "ipython",
    "version": 3
   },
   "file_extension": ".py",
   "mimetype": "text/x-python",
   "name": "python",
   "nbconvert_exporter": "python",
   "pygments_lexer": "ipython3",
   "version": "3.10.11"
  }
 },
 "nbformat": 4,
 "nbformat_minor": 5
}
